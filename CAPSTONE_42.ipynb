{
 "cells": [
  {
   "cell_type": "markdown",
   "metadata": {},
   "source": [
    "# INTRODUCTION"
   ]
  },
  {
   "cell_type": "markdown",
   "metadata": {},
   "source": [
    "KOTA (Rajasthan, INDIA) is a city known as as education hub of India. Its full of ethnic diverse people having different backgrounds and culture. THe city is widely known for its coachings. Every year millions of students from accross the India, come to Kota to prepare for competetive exams in the field of engineering as well as medical science.\n",
    "\n",
    "KOTA has also become an attractive place for investors who are putting their large amount of money to open restruants, cafe, Hotels, food joints/palour, malls etc.\n",
    "\n",
    "City is divided into different parts/sub areas. Some are densely populated while others are not. Some are full of malls, restraunts while other areas lack them."
   ]
  },
  {
   "cell_type": "code",
   "execution_count": null,
   "metadata": {},
   "outputs": [],
   "source": []
  },
  {
   "cell_type": "markdown",
   "metadata": {},
   "source": [
    "# BUSINESS PROBLEM"
   ]
  },
  {
   "cell_type": "markdown",
   "metadata": {},
   "source": [
    "An outsider Investor, wants to open up a restruant in Kota. Which location he should select, so that he can attract the crowd as well as does not face much competetion with the existing retailers/shops.\n",
    "\n",
    "We will deal with this problem!"
   ]
  },
  {
   "cell_type": "code",
   "execution_count": null,
   "metadata": {},
   "outputs": [],
   "source": []
  },
  {
   "cell_type": "markdown",
   "metadata": {},
   "source": [
    "# DATA SET"
   ]
  },
  {
   "cell_type": "markdown",
   "metadata": {},
   "source": [
    "\n",
    "I have used following data from their respective sources and for the following purposes:-  \n",
    "- CENSUS of Govt of India,2011:  To get the data about localities of the city\n",
    "- Google Map: To clarify and add on the details regarding famous localities of the city\n",
    "- Geolocator: to get the cordinates of all the localities of the city\n",
    "- FourSquare API: to get the list of all the venues related to restruants/food in those localities\n",
    "- Keggle-ZOMATO data:  Used the zomato data, a list of all restruants available the Kaggle, to add on all the food outlets"
   ]
  },
  {
   "cell_type": "code",
   "execution_count": null,
   "metadata": {},
   "outputs": [],
   "source": []
  }
 ],
 "metadata": {
  "kernelspec": {
   "display_name": "Python 3",
   "language": "python",
   "name": "python3"
  },
  "language_info": {
   "codemirror_mode": {
    "name": "ipython",
    "version": 3
   },
   "file_extension": ".py",
   "mimetype": "text/x-python",
   "name": "python",
   "nbconvert_exporter": "python",
   "pygments_lexer": "ipython3",
   "version": "3.6.5"
  }
 },
 "nbformat": 4,
 "nbformat_minor": 2
}
